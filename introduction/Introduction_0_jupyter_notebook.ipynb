{
 "cells": [
  {
   "cell_type": "markdown",
   "metadata": {
    "collapsed": true
   },
   "source": [
    "# How to install jupyter notebook and related software\n",
    "\n",
    "The jupyter notebook is THIS webinterface, that sends code to an IPython session.\n",
    "\n",
    "This is a markdown \"cell\"."
   ]
  },
  {
   "cell_type": "code",
   "execution_count": 2,
   "metadata": {
    "collapsed": false
   },
   "outputs": [
    {
     "name": "stdout",
     "output_type": "stream",
     "text": [
      "3\n"
     ]
    }
   ],
   "source": [
    "# this is a code cell\n",
    "i=3\n",
    "print i"
   ]
  },
  {
   "cell_type": "markdown",
   "metadata": {
    "collapsed": true
   },
   "source": [
    "## 1. Get conda\n",
    "\n",
    "\n",
    "### conda is a handy packagemanager.\n",
    "http://conda.pydata.org/miniconda.html\n",
    "\n",
    "```bash\n",
    "$> wget https://repo.continuum.io/miniconda/Miniconda2-latest-Linux-x86_64.sh # linux 64, python 2.7\n",
    "$> sh Miniconda2-latest-Linux-x86_64.sh\n",
    "```"
   ]
  },
  {
   "cell_type": "markdown",
   "metadata": {},
   "source": [
    "## 2. Get sklearn and jupyter notebook\n",
    "\n",
    "```bash\n",
    "$> conda install jupyter\n",
    "$> conda install scikit-learn\n",
    "$> conda install matplotlib  \n",
    "```"
   ]
  },
  {
   "cell_type": "markdown",
   "metadata": {},
   "source": [
    "## 3. Meh! I dont like fancy web interfaces and i have my own packet manager!\n",
    "\n",
    "linux, conda and jupyter are not strictly required, but they can make your life easier.\n",
    "\n",
    "\n",
    "Scikit-learn, matplotlib and Python will be hard to avoid."
   ]
  },
  {
   "cell_type": "markdown",
   "metadata": {},
   "source": [
    "## [back](Introduction.ipynb)"
   ]
  },
  {
   "cell_type": "markdown",
   "metadata": {},
   "source": [
    "---"
   ]
  }
 ],
 "metadata": {
  "anaconda-cloud": {},
  "kernelspec": {
   "display_name": "Python [default]",
   "language": "python",
   "name": "python2"
  },
  "language_info": {
   "codemirror_mode": {
    "name": "ipython",
    "version": 2
   },
   "file_extension": ".py",
   "mimetype": "text/x-python",
   "name": "python",
   "nbconvert_exporter": "python",
   "pygments_lexer": "ipython2",
   "version": "2.7.12"
  }
 },
 "nbformat": 4,
 "nbformat_minor": 1
}
