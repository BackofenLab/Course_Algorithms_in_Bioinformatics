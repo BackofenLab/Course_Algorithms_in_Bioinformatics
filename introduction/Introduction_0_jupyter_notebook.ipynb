{
 "cells": [
  {
   "cell_type": "markdown",
   "metadata": {
    "collapsed": true
   },
   "source": [
    "# How to install jupyter notebook and related software\n",
    "\n",
    "The jupyter notebook is THIS webinterface, that sends code to an IPython session.\n",
    "\n",
    "This is a markdown \"cell\"."
   ]
  },
  {
   "cell_type": "code",
   "execution_count": 1,
   "metadata": {
    "collapsed": false
   },
   "outputs": [
    {
     "name": "stdout",
     "output_type": "stream",
     "text": [
      "3\n"
     ]
    }
   ],
   "source": [
    "# this is a code cell\n",
    "i=3\n",
    "print(i)"
   ]
  },
  {
   "cell_type": "markdown",
   "metadata": {},
   "source": [
    "Jupyter notebooks are a nice way to prototype and show your code, your final code should be delivered a proper python scripts."
   ]
  },
  {
   "cell_type": "markdown",
   "metadata": {
    "collapsed": true
   },
   "source": [
    "## Get conda\n",
    "\n",
    "\n",
    "### conda is a handy package manager.\n",
    "\n",
    "http://conda.pydata.org/miniconda.html\n",
    "\n",
    "To facilitate combatiblilty of tests, we will use python3 (end of support for python2 is 2020).\n",
    "\n",
    "```bash\n",
    "$> wget https://repo.continuum.io/miniconda/Miniconda3-latest-Linux-x86_64.sh # linux 64, python 3.5\n",
    "$> sh Miniconda3-latest-Linux-x86_64.sh\n",
    "```"
   ]
  },
  {
   "cell_type": "markdown",
   "metadata": {},
   "source": [
    "## Get jupyter notebooks\n",
    "\n",
    "```bash\n",
    "$> conda install jupyter\n",
    "```"
   ]
  },
  {
   "cell_type": "markdown",
   "metadata": {},
   "source": [
    "## Start it up\n",
    "\n",
    "```bash\n",
    "%> jupyter notebook\n",
    "```"
   ]
  },
  {
   "cell_type": "markdown",
   "metadata": {},
   "source": [
    "# Development environment\n",
    "\n",
    "Development of the production code will benefit from an integrated Python IDE. You can chose whatever environment or editor you like, Emacs anybody?\n",
    "\n",
    "Have a look at PyCharm: https://www.jetbrains.com/pycharm/"
   ]
  },
  {
   "cell_type": "markdown",
   "metadata": {},
   "source": [
    "# Version control\n",
    "\n",
    "* Your code should be version controlled, this allows you to easily revert misfortunate changes.\n",
    "* We recommend git (also available via conda).\n",
    "* You may want to use that in combination with a service such as GitHub or BitBucket."
   ]
  },
  {
   "cell_type": "markdown",
   "metadata": {},
   "source": [
    "# Testing\n",
    "\n",
    "* We recommend a test-driven development workflow (https://en.wikipedia.org/wiki/Test-driven_development).\n",
    "\n",
    "## Test-driven development\n",
    "\n",
    "* agile software development process\n",
    "    * first write tests, then the code\n",
    "* [\"Red, green, refactor\"](https://en.wikipedia.org/wiki/Test-driven_development)\n",
    "    1. \"Add a test\"\n",
    "    2. \"Run all tests and see if the new one fails\" -> Red\n",
    "    3. \"Write some code\"\n",
    "    4. \"Run tests\" -> Green\n",
    "    5. \"Refactor code\" -> Refactor\n",
    "\n",
    "## Details\n",
    "\n",
    "* You need a test runner such as pytest (http://docs.pytest.org/en/latest/).\n",
    "* We recommend concentrating on unittests, not doctests.\n",
    "* We will supply function signatures for all algorithms, this will allow you to run your own doctests on your partner's code during the crossvalidation phase."
   ]
  },
  {
   "cell_type": "markdown",
   "metadata": {},
   "source": [
    "# Documentation & Code Style\n",
    "\n",
    "Please follow the conventions for code style (https://www.python.org/dev/peps/pep-0008/) and docstrings (https://www.python.org/dev/peps/pep-0257/)."
   ]
  }
 ],
 "metadata": {
  "anaconda-cloud": {},
  "kernelspec": {
   "display_name": "Python [conda env:py3k]",
   "language": "python",
   "name": "conda-env-py3k-py"
  },
  "language_info": {
   "codemirror_mode": {
    "name": "ipython",
    "version": 3
   },
   "file_extension": ".py",
   "mimetype": "text/x-python",
   "name": "python",
   "nbconvert_exporter": "python",
   "pygments_lexer": "ipython3",
   "version": "3.5.2"
  }
 },
 "nbformat": 4,
 "nbformat_minor": 1
}
