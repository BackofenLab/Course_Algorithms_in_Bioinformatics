{
 "cells": [
  {
   "cell_type": "markdown",
   "metadata": {},
   "source": [
    "# Introduction to python \n",
    "\n",
    "* based on https://www.stavros.io/tutorials/python/\n",
    "* beyond this short introduction, the official tutorial is a good starting point\n",
    "  * https://docs.python.org/3/tutorial/"
   ]
  },
  {
   "cell_type": "markdown",
   "metadata": {
    "collapsed": true
   },
   "source": [
    "##  1. Helping yourself :) "
   ]
  },
  {
   "cell_type": "code",
   "execution_count": 1,
   "metadata": {
    "collapsed": false
   },
   "outputs": [
    {
     "name": "stdout",
     "output_type": "stream",
     "text": [
      "dir: ['__class__', '__delattr__', '__dict__', '__dir__', '__doc__', '__eq__', '__format__', '__ge__', '__getattribute__', '__gt__', '__hash__', '__init__', '__le__', '__lt__', '__module__', '__ne__', '__new__', '__reduce__', '__reduce_ex__', '__repr__', '__setattr__', '__sizeof__', '__str__', '__subclasshook__', '__weakref__', 'do_something']\n",
      "********************************************************************************\n",
      "Help on WeirdThing in module __main__ object:\n",
      "\n",
      "class WeirdThing(builtins.object)\n",
      " |  you should always document your code\n",
      " |  \n",
      " |  Methods defined here:\n",
      " |  \n",
      " |  do_something(asd)\n",
      " |      otherwise you will forget what it does\n",
      " |  \n",
      " |  ----------------------------------------------------------------------\n",
      " |  Data descriptors defined here:\n",
      " |  \n",
      " |  __dict__\n",
      " |      dictionary for instance variables (if defined)\n",
      " |  \n",
      " |  __weakref__\n",
      " |      list of weak references to the object (if defined)\n",
      "\n",
      "********************************************************************************\n",
      "docstring: \n",
      "    you should always document your code\n",
      "    \n",
      "docstring: \n",
      "        otherwise you will forget what it does\n",
      "        \n",
      "********************************************************************************\n"
     ]
    },
    {
     "data": {
      "text/plain": [
       "{}"
      ]
     },
     "execution_count": 1,
     "metadata": {},
     "output_type": "execute_result"
    }
   ],
   "source": [
    "# make a class\n",
    "class WeirdThing:\n",
    "    '''\n",
    "    you should always document your code\n",
    "    '''\n",
    "    \n",
    "    def do_something(asd):\n",
    "        '''\n",
    "        otherwise you will forget what it does\n",
    "        '''\n",
    "        return abs(asd)\n",
    " \n",
    "\n",
    "# make an object \n",
    "w=WeirdThing()\n",
    "\n",
    "# there are 3 paths to help\n",
    "print('dir: %s' % dir(w))  # dir \n",
    "print('*'*80)\n",
    "help(w)                    # help\n",
    "print('*'*80)              # __doc__ and __dict__\n",
    "print('docstring: %s' % w.__doc__)\n",
    "print('docstring: %s' % w.do_something.__doc__)\n",
    "print('*'*80)\n",
    "\n",
    "w.__dict__  # shows attributes. "
   ]
  },
  {
   "cell_type": "code",
   "execution_count": 2,
   "metadata": {
    "collapsed": false,
    "scrolled": true
   },
   "outputs": [
    {
     "name": "stdout",
     "output_type": "stream",
     "text": [
      "['__call__', '__class__', '__delattr__', '__dir__', '__doc__', '__eq__', '__format__', '__ge__', '__getattribute__', '__gt__', '__hash__', '__init__', '__le__', '__lt__', '__module__', '__name__', '__ne__', '__new__', '__qualname__', '__reduce__', '__reduce_ex__', '__repr__', '__self__', '__setattr__', '__sizeof__', '__str__', '__subclasshook__', '__text_signature__']\n",
      "********************************************************************************\n",
      "Help on built-in function abs in module builtins:\n",
      "\n",
      "abs(x, /)\n",
      "    Return the absolute value of the argument.\n",
      "\n",
      "********************************************************************************\n",
      "Return the absolute value of the argument.\n"
     ]
    }
   ],
   "source": [
    "# lets apply these on a builtin function\n",
    "print(dir(abs))\n",
    "print('*'*80)\n",
    "\n",
    "help(abs)\n",
    "print('*'*80)\n",
    "\n",
    "print(abs.__doc__)"
   ]
  },
  {
   "cell_type": "markdown",
   "metadata": {
    "collapsed": true
   },
   "source": [
    "## 2. Strings\n",
    "\n",
    "\n",
    "Pythons greatest strength is the ez of working with strings"
   ]
  },
  {
   "cell_type": "code",
   "execution_count": 3,
   "metadata": {
    "collapsed": false
   },
   "outputs": [],
   "source": [
    "# defining strings\n",
    "astring = 'astring'\n",
    "another_string = \"bstring\"\n",
    "a_multi_line_string= '''\n",
    "yay!\n",
    "'''\n",
    "one_more=\"\"\"things\n",
    "\"\"\""
   ]
  },
  {
   "cell_type": "code",
   "execution_count": 4,
   "metadata": {
    "collapsed": false
   },
   "outputs": [
    {
     "name": "stdout",
     "output_type": "stream",
     "text": [
      "astring astring 5 3.1\n"
     ]
    }
   ],
   "source": [
    "# concatenation\n",
    "a_concatenated_string = astring+another_string\n",
    "two_strings = '{} {} {} {:.2}'.format(astring,astring,5,3.141)\n",
    "print(two_strings)"
   ]
  },
  {
   "cell_type": "code",
   "execution_count": 5,
   "metadata": {
    "collapsed": false
   },
   "outputs": [
    {
     "name": "stdout",
     "output_type": "stream",
     "text": [
      "b\n",
      "bc\n"
     ]
    }
   ],
   "source": [
    "# indexiung \n",
    "string = 'abc'\n",
    "print(string[1:2])\n",
    "print(string[string.find('b'):])"
   ]
  },
  {
   "cell_type": "markdown",
   "metadata": {},
   "source": [
    "## 3. Flow control"
   ]
  },
  {
   "cell_type": "code",
   "execution_count": 6,
   "metadata": {
    "collapsed": false
   },
   "outputs": [
    {
     "name": "stdout",
     "output_type": "stream",
     "text": [
      "0 even\n",
      "1 odd\n",
      "end of for\n",
      "0 even\n",
      "1 odd\n",
      "end of for\n"
     ]
    }
   ],
   "source": [
    "for j in range(2):\n",
    "    for i in range(3): # range will create a list[0,1,2] with 3 elements\n",
    "        if i % 2: # there is an if statement that works as usual \n",
    "            print('%d odd' % i)\n",
    "            break # break stops the iteration\n",
    "        elif False:  # False and True exist\n",
    "            continue # continue jumps to the next iteration step\n",
    "        else: # else does elsy things\n",
    "            print('%d even' % i)\n",
    "    print(\"end of for\")\n",
    "\n",
    "    # there is also a while loop :) "
   ]
  },
  {
   "cell_type": "markdown",
   "metadata": {},
   "source": [
    "## 4. Functions"
   ]
  },
  {
   "cell_type": "code",
   "execution_count": 7,
   "metadata": {
    "collapsed": false
   },
   "outputs": [
    {
     "name": "stdout",
     "output_type": "stream",
     "text": [
      "1hello!\n",
      "['2222']\n",
      "4\n"
     ]
    }
   ],
   "source": [
    "def foo(firstarg, named_argument='hello!'):\n",
    "    print(firstarg+named_argument)\n",
    "foo('1')  \n",
    "\n",
    "# integers and strings are called by value\n",
    "# with list there is a call by reference trap\n",
    "# be aware of this behaviour\n",
    "\n",
    "# make empty list\n",
    "mylist=[]# list()\n",
    "\n",
    "# append something in a function\n",
    "def changelist(li):    \n",
    "    li.append('2222')\n",
    "    \n",
    "changelist(mylist)\n",
    "\n",
    "# lets see... \n",
    "print(mylist)\n",
    "\n",
    "# there are also lambdas  \n",
    "def addone(x): return x+1\n",
    "\n",
    "addone = lambda x: x+1\n",
    "print(addone(3))\n"
   ]
  },
  {
   "cell_type": "markdown",
   "metadata": {},
   "source": [
    "## 5. Datatypes "
   ]
  },
  {
   "cell_type": "code",
   "execution_count": 8,
   "metadata": {
    "collapsed": false
   },
   "outputs": [
    {
     "name": "stdout",
     "output_type": "stream",
     "text": [
      "3\n",
      "[1, '2'] {3: 4, 4: 5, 5: 7} (1, 2, 3)\n"
     ]
    }
   ],
   "source": [
    "## useful\n",
    "#lists\n",
    "li = []\n",
    "li.append(1)\n",
    "li.append('2')\n",
    "\n",
    "\n",
    "# dictionaries\n",
    "di={3:4, 5:7}   # {key:value}  3 -> 4\n",
    "di[4] = 5  # 4 -> 5\n",
    "\n",
    "\n",
    "# less useful\n",
    "# tupqle, immutable\n",
    "tu = (1,2,3)\n",
    "print(tu[2])\n",
    "#tu[2]=0  # wont work  because immutable\n",
    "\n",
    "print(li,di,tu)"
   ]
  },
  {
   "cell_type": "markdown",
   "metadata": {
    "collapsed": true
   },
   "source": [
    "## 6. Nice to know :)"
   ]
  },
  {
   "cell_type": "code",
   "execution_count": 9,
   "metadata": {
    "collapsed": false
   },
   "outputs": [
    {
     "name": "stdout",
     "output_type": "stream",
     "text": [
      "something went wrong, you tried something funny\n",
      "string i wrote to a file"
     ]
    }
   ],
   "source": [
    "# try/except\n",
    "try:\n",
    "    i = 10/0\n",
    "except:\n",
    "    print('something went wrong, you tried something funny')\n",
    "    \n",
    "# there is no  ++ increment...\n",
    "i=0\n",
    "i+=1\n",
    "\n",
    "# writing a file\n",
    "with open ('trash','w') as f:\n",
    "    f.write('string i wrote to a file')\n",
    "    \n",
    "# notebook extension to call shell, this is not python :) \n",
    "! cat trash  "
   ]
  },
  {
   "cell_type": "markdown",
   "metadata": {},
   "source": [
    "## 7. Classes"
   ]
  },
  {
   "cell_type": "code",
   "execution_count": 10,
   "metadata": {
    "collapsed": false
   },
   "outputs": [
    {
     "data": {
      "text/plain": [
       "4"
      ]
     },
     "execution_count": 10,
     "metadata": {},
     "output_type": "execute_result"
    }
   ],
   "source": [
    "class myclass:\n",
    "    \n",
    "    #  you write the constructor like this,\n",
    "    #  this is the main point about classes.\n",
    "    def __init__(self,var): \n",
    "        self.number = var\n",
    "        \n",
    "    def gimme(self):\n",
    "        '''\n",
    "        as always we might want to write a doc string \n",
    "        '''\n",
    "        return self.number\n",
    "    \n",
    "c = myclass(4)\n",
    "c.gimme()"
   ]
  },
  {
   "cell_type": "markdown",
   "metadata": {},
   "source": [
    "## 8. Modules"
   ]
  },
  {
   "cell_type": "code",
   "execution_count": 11,
   "metadata": {
    "collapsed": false
   },
   "outputs": [
    {
     "name": "stdout",
     "output_type": "stream",
     "text": [
      "4\n",
      "1\n"
     ]
    }
   ],
   "source": [
    "# using builtin modules\n",
    "\n",
    "# the right way ^^ \n",
    "import random\n",
    "print(random.randint(1,7))\n",
    "\n",
    "# import everything, the lazy way\n",
    "from random import *\n",
    "print(randint(1,8))\n",
    "\n",
    "# import one function only\n",
    "from random import randint\n"
   ]
  },
  {
   "cell_type": "code",
   "execution_count": 12,
   "metadata": {
    "collapsed": false
   },
   "outputs": [],
   "source": [
    "# you can import any python file in the \n",
    "# current directory and the $PYTHONPATH\n",
    "\n",
    "text='''import random\n",
    "\n",
    "def wrap_randint(z):\n",
    "    return random.randint(1,z)\n",
    "'''\n",
    "! mkdir -p mydir\n",
    "! echo  \"$text\" > mydir/mymodule.py\n",
    "\n",
    "\n",
    "# python will look for files modules in the $path \n",
    "# __init__.py declares a folder a module. modules extend the path\n",
    "\n",
    "# try to import the file in a subfolder... -> error\n",
    "#from mydir import mymodule\n",
    "#print(mymodule.wrap_randint(6))"
   ]
  },
  {
   "cell_type": "code",
   "execution_count": 13,
   "metadata": {
    "collapsed": false
   },
   "outputs": [
    {
     "data": {
      "text/plain": [
       "2"
      ]
     },
     "execution_count": 13,
     "metadata": {},
     "output_type": "execute_result"
    }
   ],
   "source": [
    "# make the subfolder a module and there you go!\n",
    "!touch mydir/__init__.py\n",
    "from mydir import mymodule\n",
    "mymodule.wrap_randint(3)"
   ]
  },
  {
   "cell_type": "markdown",
   "metadata": {},
   "source": [
    "## 9. List comprehensions \n",
    "\n",
    "mathematics have list comprehension like these: \n",
    "$\\{x^2: x \\in \\{0..9\\}\\}$  \n",
    "$\\{x | x \\in S \\wedge x~is~even\\}$"
   ]
  },
  {
   "cell_type": "code",
   "execution_count": 14,
   "metadata": {
    "collapsed": false
   },
   "outputs": [
    {
     "name": "stdout",
     "output_type": "stream",
     "text": [
      "[0, 1, 4, 9, 16]\n",
      "[0, 2, 4]\n"
     ]
    }
   ],
   "source": [
    "# python can do that too:\n",
    "# remember that range() creates a list \n",
    "\n",
    "alist = range(5)\n",
    "print([ x**2 for x in alist ])\n",
    "print([x for x in alist if x%2==0])"
   ]
  },
  {
   "cell_type": "code",
   "execution_count": 15,
   "metadata": {
    "collapsed": false
   },
   "outputs": [
    {
     "name": "stdout",
     "output_type": "stream",
     "text": [
      "<map object at 0x7fc234633a90>\n",
      "{0: 1, 1: 2, 2: 3}\n"
     ]
    }
   ],
   "source": [
    "#there is also map\n",
    "print(map(lambda x: x**2, range(5)))\n",
    "\n",
    "# you can also do dictionary comprehension\n",
    "print({x:x+1 for x in range(3)})"
   ]
  }
 ],
 "metadata": {
  "anaconda-cloud": {},
  "kernelspec": {
   "display_name": "Python [conda env:py3k]",
   "language": "python",
   "name": "conda-env-py3k-py"
  },
  "language_info": {
   "codemirror_mode": {
    "name": "ipython",
    "version": 3
   },
   "file_extension": ".py",
   "mimetype": "text/x-python",
   "name": "python",
   "nbconvert_exporter": "python",
   "pygments_lexer": "ipython3",
   "version": "3.5.2"
  }
 },
 "nbformat": 4,
 "nbformat_minor": 1
}
